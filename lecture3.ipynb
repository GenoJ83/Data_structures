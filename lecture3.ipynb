{
 "cells": [
  {
   "cell_type": "code",
   "execution_count": 1,
   "metadata": {},
   "outputs": [
    {
     "name": "stdout",
     "output_type": "stream",
     "text": [
      "Hello world\n"
     ]
    }
   ],
   "source": [
    "def main():\n",
    "    print(\"Hello world\")\n",
    "main()\n",
    "\n"
   ]
  },
  {
   "cell_type": "code",
   "execution_count": 3,
   "metadata": {},
   "outputs": [
    {
     "name": "stdout",
     "output_type": "stream",
     "text": [
      "1 2 3 4 \n",
      "5 6 7 8 \n",
      "9 10 11 12 \n",
      "13 14 15 16 \n",
      "17 18 19 20 \n",
      "21 22 23 24 \n",
      "25 26 27 28 \n",
      "29 30 31 32 \n",
      "33 34 35 36 \n",
      "37 38 39 40 \n",
      "41 42 43 44 \n",
      "45 46 47 48 \n",
      "49 50 51 52 \n",
      "53 54 55 56 \n",
      "57 58 59 60 \n",
      "61 62 63 64 \n",
      "65 66 67 68 \n",
      "69 70 71 72 \n",
      "73 74 75 76 \n",
      "77 78 79 80 \n"
     ]
    }
   ],
   "source": [
    "#Counting numbers from 1-80 with 4 numbers per line\n",
    "def count():\n",
    "    for i in range(1,81):\n",
    "        print(i, end=' ')\n",
    "        if i % 4 == 0:\n",
    "            print()\n",
    "count()"
   ]
  },
  {
   "cell_type": "code",
   "execution_count": 18,
   "metadata": {},
   "outputs": [
    {
     "name": "stdout",
     "output_type": "stream",
     "text": [
      "Degree converter from °C to °F\n",
      " 40.00°C in fahrenheit is: 104.00°F\n"
     ]
    }
   ],
   "source": [
    "#Degree converter from C to F\n",
    "\n",
    "\n",
    "def converter(C):\n",
    "    \n",
    "    fahrenheit=((C*9/5)+32)\n",
    "    return fahrenheit\n",
    "    \n",
    "def main():\n",
    "    print(\"Degree converter from °C to °F\")\n",
    "    C= float(input(\"Enter temperature in °C:\"))\n",
    "    fahrenheit= converter(C)\n",
    "    print(f\"{C: .2f}°C in fahrenheit is:{fahrenheit: .2f}°F\")\n",
    "    \n",
    "main()\n"
   ]
  },
  {
   "cell_type": "code",
   "execution_count": 25,
   "metadata": {},
   "outputs": [
    {
     "name": "stdout",
     "output_type": "stream",
     "text": [
      "['Alvin', 16]\n",
      "['Alvin', 16]\n"
     ]
    }
   ],
   "source": [
    "#Function that returns name and age of the person as a list\n",
    "\n",
    "def name_and_age():\n",
    "    identity=[]\n",
    "    name= (input(\"Enter your name:\"))\n",
    "    identity.append(name)\n",
    "    age = int(input(\"Enter your age:\"))\n",
    "    identity.append(age)\n",
    "    print(f\"{identity}\")\n",
    "    return identity\n",
    "def main():\n",
    "    identity =name_and_age()\n",
    "    print(identity)\n",
    "main()"
   ]
  }
 ],
 "metadata": {
  "kernelspec": {
   "display_name": "Python 3",
   "language": "python",
   "name": "python3"
  },
  "language_info": {
   "codemirror_mode": {
    "name": "ipython",
    "version": 3
   },
   "file_extension": ".py",
   "mimetype": "text/x-python",
   "name": "python",
   "nbconvert_exporter": "python",
   "pygments_lexer": "ipython3",
   "version": "3.11.3"
  },
  "orig_nbformat": 4
 },
 "nbformat": 4,
 "nbformat_minor": 2
}
