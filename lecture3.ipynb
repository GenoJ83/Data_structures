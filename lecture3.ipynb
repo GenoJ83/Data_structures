{
 "cells": [
  {
   "cell_type": "code",
   "execution_count": 1,
   "metadata": {},
   "outputs": [
    {
     "name": "stdout",
     "output_type": "stream",
     "text": [
      "Hello world\n"
     ]
    }
   ],
   "source": [
    "def main():\n",
    "    print(\"Hello world\")\n",
    "main()"
   ]
  },
  {
   "cell_type": "code",
   "execution_count": 8,
   "metadata": {},
   "outputs": [
    {
     "name": "stdout",
     "output_type": "stream",
     "text": [
      "1 2 3 4 \n",
      "5 6 7 8 \n",
      "9 10 11 12 \n",
      "13 14 15 16 \n",
      "17 18 19 20 \n",
      "21 22 23 24 \n",
      "25 26 27 28 \n",
      "29 30 31 32 \n",
      "33 34 35 36 \n",
      "37 38 39 40 \n",
      "41 42 43 44 \n",
      "45 46 47 48 \n",
      "49 50 51 52 \n",
      "53 54 55 56 \n",
      "57 58 59 60 \n",
      "61 62 63 64 \n",
      "65 66 67 68 \n",
      "69 70 71 72 \n",
      "73 74 75 76 \n",
      "77 78 79 80 \n"
     ]
    }
   ],
   "source": [
    "def count():\n",
    "    for i in range(1,81):\n",
    "        print(i, end=' ')\n",
    "        if i % 4 == 0:\n",
    "            print()\n",
    "count()"
   ]
  },
  {
   "cell_type": "code",
   "execution_count": null,
   "metadata": {},
   "outputs": [],
   "source": []
  }
 ],
 "metadata": {
  "kernelspec": {
   "display_name": "Python 3",
   "language": "python",
   "name": "python3"
  },
  "language_info": {
   "codemirror_mode": {
    "name": "ipython",
    "version": 3
   },
   "file_extension": ".py",
   "mimetype": "text/x-python",
   "name": "python",
   "nbconvert_exporter": "python",
   "pygments_lexer": "ipython3",
   "version": "3.11.3"
  },
  "orig_nbformat": 4
 },
 "nbformat": 4,
 "nbformat_minor": 2
}
