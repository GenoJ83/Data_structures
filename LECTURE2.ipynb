{
 "cells": [
  {
   "cell_type": "code",
   "execution_count": 7,
   "metadata": {},
   "outputs": [
    {
     "name": "stdout",
     "output_type": "stream",
     "text": [
      "The maximum number is: 3.0\n"
     ]
    }
   ],
   "source": [
    "\n",
    "num1 = int(input(\"Enter the first number: \"))\n",
    "num2 = int(input(\"Enter the second number: \"))\n",
    "\n",
    "\n",
    "if num1 > num2:\n",
    "    max = num1\n",
    "else:\n",
    "    max = num2\n",
    "\n",
    "print(\"The maximum number:\", max)\n"
   ]
  },
  {
   "cell_type": "code",
   "execution_count": null,
   "metadata": {},
   "outputs": [],
   "source": [
    "#PAYE tax collector with atleast one \n",
    "# A Function to calculate PAYE tax\n",
    "def calculate_paye(income):\n",
    "    # Define tax bands and rates\n",
    "    tax_bands = [(0, 10000), (10001, 40000), (40001, 80000), (80001, float(\"inf\"))]\n",
    "    tax_rates = [0.0, 0.2, 0.4, 0.5]\n",
    "\n",
    "    # Initialize tax\n",
    "    tax = 0.0\n",
    "\n",
    "    # Calculating tax based on income and tax bands\n",
    "    for (lower, upper), rate in zip(tax_bands, tax_rates):\n",
    "        if income <= lower:\n",
    "            continue\n",
    "        elif income <= upper:\n",
    "            taxable_amount = income - lower\n",
    "        else:\n",
    "            taxable_amount = upper - lower\n",
    "\n",
    "        tax += taxable_amount * rate\n",
    "\n",
    "    return tax\n",
    "\n",
    "# Get input from the user\n",
    "try:\n",
    "    income = float(input(\"Enter your annual income: \"))\n",
    "    if income < 0:\n",
    "        raise ValueError(\"Income cannot be negative.\")\n",
    "except ValueError as e:\n",
    "    print(\"Invalid input. Please enter a valid positive number.\")\n",
    "else:\n",
    "    # Calculating and displaying PAYE tax\n",
    "    paye_tax = calculate_paye(income)\n",
    "    print(f\"Your PAYE tax is: {paye_tax:.2f}\")\n"
   ]
  }
 ],
 "metadata": {
  "kernelspec": {
   "display_name": "Python 3",
   "language": "python",
   "name": "python3"
  },
  "language_info": {
   "codemirror_mode": {
    "name": "ipython",
    "version": 3
   },
   "file_extension": ".py",
   "mimetype": "text/x-python",
   "name": "python",
   "nbconvert_exporter": "python",
   "pygments_lexer": "ipython3",
   "version": "3.11.3"
  },
  "orig_nbformat": 4
 },
 "nbformat": 4,
 "nbformat_minor": 2
}
