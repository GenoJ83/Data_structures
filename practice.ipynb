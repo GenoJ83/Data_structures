{
 "cells": [
  {
   "cell_type": "code",
   "execution_count": 2,
   "metadata": {},
   "outputs": [
    {
     "name": "stdout",
     "output_type": "stream",
     "text": [
      "Sum of even numbers: 110\n",
      "Sum of odd numbers: 100\n"
     ]
    }
   ],
   "source": [
    "#Python program to calculate sum of odd and even numbers with in a given range\n",
    "def sum_even_and_odd_numbers(start, end):\n",
    "    sumEven = 0\n",
    "    odd_sum = 0\n",
    "\n",
    "    for i in range(start, end + 1):\n",
    "        if i % 2 == 0:\n",
    "            even_sum += i\n",
    "        else:\n",
    "            odd_sum += i\n",
    "\n",
    "    return even_sum, odd_sum\n",
    "\n",
    "# Prompt the user to input the range\n",
    "start_range = int(input(\"Enter the start of the range: \"))\n",
    "end_range = int(input(\"Enter the end of the range: \"))\n",
    "\n",
    "even_sum, odd_sum = sum_even_and_odd_numbers(start_range, end_range)\n",
    "\n",
    "print(f\"Sum of even numbers: {even_sum}\")\n",
    "print(f\"Sum of odd numbers: {odd_sum}\")\n"
   ]
  }
 ],
 "metadata": {
  "kernelspec": {
   "display_name": "Python 3",
   "language": "python",
   "name": "python3"
  },
  "language_info": {
   "codemirror_mode": {
    "name": "ipython",
    "version": 3
   },
   "file_extension": ".py",
   "mimetype": "text/x-python",
   "name": "python",
   "nbconvert_exporter": "python",
   "pygments_lexer": "ipython3",
   "version": "3.11.3"
  },
  "orig_nbformat": 4
 },
 "nbformat": 4,
 "nbformat_minor": 2
}
