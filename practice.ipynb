{
 "cells": [
  {
   "cell_type": "code",
   "execution_count": null,
   "metadata": {},
   "outputs": [],
   "source": [
    "def sum_even_and_odd_numbers(start, end):\n",
    "    even_sum = 0\n",
    "    odd_sum = 0\n",
    "\n",
    "    for num in range(start, end + 1):\n",
    "        if num % 2 == 0:\n",
    "            even_sum += num\n",
    "        else:\n",
    "            odd_sum += num\n",
    "\n",
    "    return even_sum, odd_sum\n",
    "\n",
    "# Prompt the user to input the range\n",
    "start_range = int(input(\"Enter the start of the range: \"))\n",
    "end_range = int(input(\"Enter the end of the range: \"))\n",
    "\n",
    "even_sum, odd_sum = sum_even_and_odd_numbers(start_range, end_range)\n",
    "\n",
    "print(f\"Sum of even numbers: {even_sum}\")\n",
    "print(f\"Sum of odd numbers: {odd_sum}\")\n"
   ]
  }
 ],
 "metadata": {
  "kernelspec": {
   "display_name": "Python 3",
   "language": "python",
   "name": "python3"
  },
  "language_info": {
   "name": "python",
   "version": "3.11.3"
  },
  "orig_nbformat": 4
 },
 "nbformat": 4,
 "nbformat_minor": 2
}
