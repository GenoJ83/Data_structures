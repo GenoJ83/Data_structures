{
 "cells": [
  {
   "cell_type": "code",
   "execution_count": 6,
   "metadata": {},
   "outputs": [
    {
     "name": "stdout",
     "output_type": "stream",
     "text": [
      "Geno Joshua\n",
      "Well done\n",
      "Geno Joshua\n",
      "Well done\n",
      "Geno Joshua\n",
      "Well done\n",
      "Geno Joshua\n",
      "Well done\n",
      "Total = 18.0, Count = 4 and Average = 4.5000000000\n"
     ]
    }
   ],
   "source": [
    "#Number 1\n",
    "#Initialize total and count  variables\n",
    "total = 0\n",
    "count = 0\n",
    "\n",
    "while True:\n",
    "    user_input = input(\"Enter a number: \") #Prompts the user to enter a number\n",
    "\n",
    "    if user_input == \"done\":\n",
    "        break         #Exits the loop when the user inputs \"done\"\n",
    "\n",
    "    try:\n",
    "        number = float(user_input)\n",
    "        total += number\n",
    "        count += 1\n",
    "    except ValueError:\n",
    "        print(\"Invalid input\")\n",
    "    else:\n",
    "        print(\"Geno Joshua\")\n",
    "    finally:\n",
    "        print(\"Well done\")\n",
    "\n",
    "if count > 0:\n",
    "    average = total / count\n",
    "else:\n",
    "    average = 0\n",
    "\n",
    "print(f\"Total = {total}, Count = {count} and Average = {average:.10f}\") #Prints the output\n"
   ]
  },
  {
   "cell_type": "code",
   "execution_count": 4,
   "metadata": {},
   "outputs": [
    {
     "name": "stdout",
     "output_type": "stream",
     "text": [
      "Total amount from Geno is: 2200000.00.\n"
     ]
    }
   ],
   "source": [
    "#Number 2\n",
    "\n",
    "while True:\n",
    "    client_name = input(\"Enter Client name: \")\n",
    "    if not client_name:\n",
    "        break  # Exit the loop if the client name is not provided.\n",
    "\n",
    "    try:\n",
    "        loan_amount = float(input(\"Enter amount of loan: \"))\n",
    "        days_taken = int(input(\"Enter days taken with the loan: \"))\n",
    "\n",
    "        if days_taken <= 30:\n",
    "            total_amount = loan_amount * 1.10  # 10% interest added\n",
    "        else:\n",
    "            extra_days = days_taken - 30\n",
    "            total_amount = loan_amount * (1 + 0.10 + (0.01 * extra_days))\n",
    "        \n",
    "        print(f\"Total amount from {client_name} is: {total_amount:.2f}.\")\n",
    "    \n",
    "    except ValueError:\n",
    "        print(\"Invalid input. Please enter valid numbers for loan amount and days taken.\")\n"
   ]
  },
  {
   "cell_type": "code",
   "execution_count": 8,
   "metadata": {},
   "outputs": [
    {
     "name": "stdout",
     "output_type": "stream",
     "text": [
      "<__main__.MyClass object at 0x0000026AE52E4110>\n",
      "<__main__.MyClass object at 0x0000026AE52E4DD0>\n",
      "<class '__main__.MyClass'>\n",
      "<class '__main__.MyClass'>\n"
     ]
    }
   ],
   "source": [
    "class MyClass:\n",
    "    pass\n",
    "object1 = MyClass()\n",
    "object2 = MyClass()\n",
    "\n",
    "print(object1)\n",
    "print(object2)\n",
    "\n",
    "print(type(object1))\n",
    "print(type(object2))"
   ]
  },
  {
   "cell_type": "code",
   "execution_count": 15,
   "metadata": {},
   "outputs": [
    {
     "name": "stdout",
     "output_type": "stream",
     "text": [
      "green\n",
      "orange\n",
      "papaya\n"
     ]
    }
   ],
   "source": [
    "class MyClass:\n",
    "    def __init__(self):\n",
    "        self.color= \"green\"\n",
    "        self.fruit = \"orange\"\n",
    "\n",
    "fruit1=MyClass()\n",
    "print(fruit1.color)\n",
    "print(fruit1.fruit)\n",
    "fruit2=MyClass()\n",
    "fruit2.color=\"yellow\"\n",
    "fruit2.name=\"papaya\"\n",
    "print(fruit2.name)"
   ]
  }
 ],
 "metadata": {
  "kernelspec": {
   "display_name": "Python 3",
   "language": "python",
   "name": "python3"
  },
  "language_info": {
   "codemirror_mode": {
    "name": "ipython",
    "version": 3
   },
   "file_extension": ".py",
   "mimetype": "text/x-python",
   "name": "python",
   "nbconvert_exporter": "python",
   "pygments_lexer": "ipython3",
   "version": "3.11.3"
  }
 },
 "nbformat": 4,
 "nbformat_minor": 2
}
