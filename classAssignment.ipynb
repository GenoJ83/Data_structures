{
 "cells": [
  {
   "cell_type": "code",
   "execution_count": null,
   "metadata": {},
   "outputs": [],
   "source": [
    "\n",
    "total = 0\n",
    "count = 0\n",
    "\n",
    "while True:\n",
    "    user_input = input(\"Enter a number: \")\n",
    "    \n",
    "    if user_input == \"done\":\n",
    "        break\n",
    "    \n",
    "    try:\n",
    "        number = float(user_input)\n",
    "        total += number\n",
    "        count += 1\n",
    "    except ValueError:\n",
    "        print(\"Invalid input\")\n",
    "\n",
    "if count > 0:\n",
    "    average = total / count\n",
    "else:\n",
    "    average = 0\n",
    "\n",
    "print(f\"Total = {total}, Count = {count} and Average = {average:.10f}\")\n"
   ]
  }
 ],
 "metadata": {
  "language_info": {
   "name": "python"
  }
 },
 "nbformat": 4,
 "nbformat_minor": 2
}
