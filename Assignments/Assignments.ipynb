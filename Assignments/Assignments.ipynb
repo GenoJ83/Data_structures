{
 "cells": [
  {
   "cell_type": "code",
   "execution_count": 5,
   "metadata": {},
   "outputs": [
    {
     "name": "stdout",
     "output_type": "stream",
     "text": [
      "Length of the list: 4\n"
     ]
    }
   ],
   "source": [
    "#Scenario 1\n",
    "\n",
    "hat = [1, 2, 3, 4, 5]\n",
    "replacement = int(input(\"Enter a number to replace the middle number: \"))#prompts the user to enter the number to replace the middle number\n",
    "hat[2] = replacement\n",
    "\n",
    "hat.pop()#To remove the last element from the list\n",
    "\n",
    "print(\"Length of the list:\", len(hat))#To print the existing list\n"
   ]
  },
  {
   "cell_type": "code",
   "execution_count": 1,
   "metadata": {},
   "outputs": [
    {
     "name": "stdout",
     "output_type": "stream",
     "text": [
      "The final lineup of the Beatles:\n",
      "Ringo Starr\n",
      "John Lennon\n",
      "Paul McCartney\n",
      "George Harrison\n"
     ]
    }
   ],
   "source": [
    "#Scenario 2\n",
    "\n",
    "beatles = [] #create an empty list named beatles\n",
    "\n",
    "#use the append() method to add the following members of the band to the list: John Lennon, Paul McCartney, and George Harrison;\n",
    "beatles.append(\"John Lennon\")\n",
    "beatles.append(\"Paul McCartney\")\n",
    "beatles.append(\"George Harrison\")\n",
    "#use the for loop and the append() method to prompt the user to add the following members of the band to the list: Stu Sutcliffe, and Pete Best;\n",
    "for i in range(2):\n",
    "    member = input(\"Enter a band member to add (Stu Sutcliffe or Pete Best): \")\n",
    "    beatles.append(member)\n",
    "\n",
    "#use the del instruction to remove Stu Sutcliffe and Pete Best from the list;\n",
    "del beatles[3]\n",
    "del beatles[3]\n",
    "\n",
    "# use the insert() method to add Ringo Starr to the beginning of the list.\n",
    "beatles.insert(0, \"Ringo Starr\")\n",
    "\n",
    "\n",
    "print(\"The updated list of the Beatles:\") # Prints the updated list\n",
    "for member in beatles:\n",
    "    print(member)\n",
    "\n"
   ]
  },
  {
   "cell_type": "code",
   "execution_count": 7,
   "metadata": {},
   "outputs": [
    {
     "name": "stdout",
     "output_type": "stream",
     "text": [
      "The list with unique elements only:\n",
      "[1, 2, 4, 6, 9]\n"
     ]
    }
   ],
   "source": [
    "#Scenario 3\n",
    "my_list = [1, 2, 4, 4, 1, 4, 2, 6, 2, 9]\n",
    "\n",
    "unique_list = [] #New empty list to store the unique elements\n",
    "\n",
    "\n",
    "for item in my_list: #for loop to iterate through my_list\n",
    "\n",
    "    if item not in unique_list: #if statement to add the item if it is not already in unique list\n",
    "        unique_list.append(item)\n",
    "\n",
    "my_list = unique_list\n",
    "\n",
    "print(\"The list with unique elements only:\")\n",
    "print(my_list)"
   ]
  }
 ],
 "metadata": {
  "kernelspec": {
   "display_name": "Python 3",
   "language": "python",
   "name": "python3"
  },
  "language_info": {
   "codemirror_mode": {
    "name": "ipython",
    "version": 3
   },
   "file_extension": ".py",
   "mimetype": "text/x-python",
   "name": "python",
   "nbconvert_exporter": "python",
   "pygments_lexer": "ipython3",
   "version": "3.11.3"
  }
 },
 "nbformat": 4,
 "nbformat_minor": 2
}
