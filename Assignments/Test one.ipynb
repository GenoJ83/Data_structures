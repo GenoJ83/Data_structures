{
 "cells": [
  {
   "cell_type": "code",
   "execution_count": 6,
   "metadata": {},
   "outputs": [
    {
     "name": "stdout",
     "output_type": "stream",
     "text": [
      "Maximum sub Array sum = 22\n"
     ]
    }
   ],
   "source": [
    "lst = [14,8,-23,4,6,10,-18,5,11]\n",
    "maxSum = lst[0] #initialize the maxsum with the first element of the list\n",
    "sumz = 0\n",
    "\n",
    "for i in range (0,len(lst)):\n",
    "    sumz += lst[i]\n",
    "\n",
    "    if sumz <0:\n",
    "        sumz = 0\n",
    "    elif maxSum < sumz:\n",
    "            maxSum = sumz\n",
    "print(\"Maximum sub Array sum =\", maxSum)"
   ]
  }
 ],
 "metadata": {
  "kernelspec": {
   "display_name": "Python 3",
   "language": "python",
   "name": "python3"
  },
  "language_info": {
   "codemirror_mode": {
    "name": "ipython",
    "version": 3
   },
   "file_extension": ".py",
   "mimetype": "text/x-python",
   "name": "python",
   "nbconvert_exporter": "python",
   "pygments_lexer": "ipython3",
   "version": "3.11.3"
  }
 },
 "nbformat": 4,
 "nbformat_minor": 2
}
